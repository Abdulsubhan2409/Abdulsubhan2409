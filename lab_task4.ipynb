{
  "nbformat": 4,
  "nbformat_minor": 0,
  "metadata": {
    "colab": {
      "provenance": [],
      "authorship_tag": "ABX9TyMdcfWOrpQ9HbsmuXEwPYpg",
      "include_colab_link": true
    },
    "kernelspec": {
      "name": "python3",
      "display_name": "Python 3"
    },
    "language_info": {
      "name": "python"
    }
  },
  "cells": [
    {
      "cell_type": "markdown",
      "metadata": {
        "id": "view-in-github",
        "colab_type": "text"
      },
      "source": [
        "<a href=\"https://colab.research.google.com/github/Abdulsubhan2409/Abdulsubhan2409/blob/main/lab_task4.ipynb\" target=\"_parent\"><img src=\"https://colab.research.google.com/assets/colab-badge.svg\" alt=\"Open In Colab\"/></a>"
      ]
    },
    {
      "cell_type": "markdown",
      "source": [
        "## Implement A* Algorithm for Pathfinding"
      ],
      "metadata": {
        "id": "ZZZiTGiZdvA7"
      }
    },
    {
      "cell_type": "code",
      "source": [
        "import heapq\n",
        "\n",
        "def heuristic(a, b):\n",
        "    return abs(a[0] - b[0]) + abs(a[1] - b[1])\n",
        "\n",
        "def a_star_pathfinding(grid):\n",
        "    start = (0, 0)\n",
        "    goal = (4, 4)\n",
        "    rows, cols = len(grid), len(grid[0])\n",
        "\n",
        "    open_set = []\n",
        "    heapq.heappush(open_set, (0, start))\n",
        "    came_from = {}\n",
        "    g_score = {start: 0}\n",
        "    f_score = {start: heuristic(start, goal)}\n",
        "\n",
        "    while open_set:\n",
        "        current = heapq.heappop(open_set)[1]\n",
        "\n",
        "        if current == goal:\n",
        "            path = []\n",
        "            while current in came_from:\n",
        "                path.append(current)\n",
        "                current = came_from[current]\n",
        "            path.append(start)\n",
        "            path.reverse()\n",
        "            return path\n",
        "\n",
        "        for dx, dy in [(-1, 0), (1, 0), (0, -1), (0, 1)]:\n",
        "            neighbor = (current[0] + dx, current[1] + dy)\n",
        "            if 0 <= neighbor[0] < rows and 0 <= neighbor[1] < cols and grid[neighbor[0]][neighbor[1]] == 0:\n",
        "                tentative_g_score = g_score[current] + 1\n",
        "                if neighbor not in g_score or tentative_g_score < g_score[neighbor]:\n",
        "                    came_from[neighbor] = current\n",
        "                    g_score[neighbor] = tentative_g_score\n",
        "                    f_score[neighbor] = tentative_g_score + heuristic(neighbor, goal)\n",
        "                    if neighbor not in [i[1] for i in open_set]:\n",
        "                        heapq.heappush(open_set, (f_score[neighbor], neighbor))\n",
        "\n",
        "    return []\n",
        "\n",
        "def mark_path_on_grid(grid, path):\n",
        "    for (x, y) in path:\n",
        "        if (x, y) != (0, 0) and (x, y) != (4, 4):\n",
        "            grid[x][y] = 'P'\n",
        "    return grid\n",
        "\n",
        "grid = [\n",
        "    [0, 0, 1, 0, 0],\n",
        "    [0, 0, 1, 0, 1],\n",
        "    [0, 0, 0, 0, 0],\n",
        "    [0, 1, 1, 1, 0],\n",
        "    [0, 0, 0, 1, 0]\n",
        "]\n",
        "\n",
        "path = a_star_pathfinding(grid)\n",
        "marked_grid = mark_path_on_grid(grid, path)\n",
        "\n",
        "for row in marked_grid:\n",
        "    print(row)\n"
      ],
      "metadata": {
        "colab": {
          "base_uri": "https://localhost:8080/"
        },
        "id": "ggp_3o8ycm-k",
        "outputId": "3531999e-65e0-4097-f419-a0afc9424841"
      },
      "execution_count": null,
      "outputs": [
        {
          "output_type": "stream",
          "name": "stdout",
          "text": [
            "[0, 'P', 1, 0, 0]\n",
            "[0, 'P', 1, 0, 1]\n",
            "[0, 'P', 'P', 'P', 'P']\n",
            "[0, 1, 1, 1, 'P']\n",
            "[0, 0, 0, 1, 0]\n"
          ]
        }
      ]
    },
    {
      "cell_type": "markdown",
      "source": [
        "# Solve the Water-Jug Problem using A* Algorithm"
      ],
      "metadata": {
        "id": "kbcGqxA0c8JD"
      }
    },
    {
      "cell_type": "code",
      "source": [
        "import heapq\n",
        "\n",
        "def water_jug_heuristic(state, target):\n",
        "    return abs(state[0] - target) + abs(state[1] - target)\n",
        "\n",
        "def water_jug_a_star(capacities, target):\n",
        "    start = (0, 0)\n",
        "    open_set = []\n",
        "    heapq.heappush(open_set, (0, start))\n",
        "    came_from = {}\n",
        "    g_score = {start: 0}\n",
        "    f_score = {start: water_jug_heuristic(start, target)}\n",
        "\n",
        "    while open_set:\n",
        "        current = heapq.heappop(open_set)[1]\n",
        "\n",
        "        if current[0] == target or current[1] == target:\n",
        "            path = []\n",
        "            while current in came_from:\n",
        "                path.append(current)\n",
        "                current = came_from[current]\n",
        "            path.append(start)\n",
        "            path.reverse()\n",
        "            return path\n",
        "\n",
        "        for action in ['fill_1', 'fill_2', 'empty_1', 'empty_2', 'pour_1_to_2', 'pour_2_to_1']:\n",
        "            if action == 'fill_1':\n",
        "                neighbor = (capacities[0], current[1])\n",
        "            elif action == 'fill_2':\n",
        "                neighbor = (current[0], capacities[1])\n",
        "            elif action == 'empty_1':\n",
        "                neighbor = (0, current[1])\n",
        "            elif action == 'empty_2':\n",
        "                neighbor = (current[0], 0)\n",
        "            elif action == 'pour_1_to_2':\n",
        "                transfer = min(current[0], capacities[1] - current[1])\n",
        "                neighbor = (current[0] - transfer, current[1] + transfer)\n",
        "            elif action == 'pour_2_to_1':\n",
        "                transfer = min(current[1], capacities[0] - current[0])\n",
        "                neighbor = (current[0] + transfer, current[1] - transfer)\n",
        "\n",
        "            tentative_g_score = g_score[current] + 1\n",
        "            if neighbor not in g_score or tentative_g_score < g_score[neighbor]:\n",
        "                came_from[neighbor] = current\n",
        "                g_score[neighbor] = tentative_g_score\n",
        "                f_score[neighbor] = tentative_g_score + water_jug_heuristic(neighbor, target)\n",
        "                if neighbor not in [i[1] for i in open_set]:\n",
        "                    heapq.heappush(open_set, (f_score[neighbor], neighbor))\n",
        "\n",
        "    return []\n",
        "\n",
        "capacities = (4, 3)\n",
        "target = 2\n",
        "path = water_jug_a_star(capacities, target)\n",
        "print(\"Path to reach the goal:\", path)\n",
        "\n"
      ],
      "metadata": {
        "id": "BR5IyzCZc0xD"
      },
      "execution_count": null,
      "outputs": []
    },
    {
      "cell_type": "markdown",
      "source": [
        "# Hill-Climbing algorithm"
      ],
      "metadata": {
        "id": "uIJ7zLmXd6m6"
      }
    },
    {
      "cell_type": "code",
      "source": [
        "import random\n",
        "\n",
        "def print_board(board):\n",
        "    for row in board:\n",
        "        print(\" \".join(row))\n",
        "    print()\n",
        "\n",
        "def calculate_conflicts(board):\n",
        "    conflicts = 0\n",
        "    size = len(board)\n",
        "    for col in range(size):\n",
        "        row = board[col].index('Q')\n",
        "        for other_col in range(size):\n",
        "            if other_col != col:\n",
        "                if board[other_col][row] == 'Q':\n",
        "                    conflicts += 1\n",
        "                # Check diagonals\n",
        "                for d in range(1, size):\n",
        "                    if (row - d >= 0 and other_col == col - d and board[other_col][row - d] == 'Q') or \\\n",
        "                       (row + d < size and other_col == col + d and board[other_col][row + d] == 'Q'):\n",
        "                        conflicts += 1\n",
        "    return conflicts\n",
        "\n",
        "def hill_climbing_n_queens(n):\n",
        "    # Initial random board\n",
        "    board = [['.' for _ in range(n)] for _ in range(n)]\n",
        "    for i in range(n):\n",
        "        board[i][random.randint(0, n-1)] = 'Q'\n",
        "\n",
        "    while True:\n",
        "        conflicts = calculate_conflicts(board)\n",
        "        if conflicts == 0:\n",
        "            return board\n",
        "\n",
        "        best_board = board\n",
        "        best_conflicts = conflicts\n",
        "\n",
        "        for col in range(n):\n",
        "            for row in range(n):\n",
        "                if board[col][row] == 'Q':\n",
        "                    temp_board = [r[:] for r in board]\n",
        "                    temp_board[col] = ['.'] * n\n",
        "                    temp_board[col][row] = 'Q'\n",
        "                    for new_row in range(n):\n",
        "                        if new_row != row:\n",
        "                            temp_board[col][new_row] = 'Q'\n",
        "                            current_conflicts = calculate_conflicts(temp_board)\n",
        "                            if current_conflicts < best_conflicts:\n",
        "                                best_conflicts = current_conflicts\n",
        "                                best_board = temp_board\n",
        "\n",
        "        if best_board == board:\n",
        "            break\n",
        "        board = best_board\n",
        "\n",
        "    return board\n",
        "\n",
        "n = 8\n",
        "solution = hill_climbing_n_queens(n)\n",
        "print_board(solution)\n",
        "\n"
      ],
      "metadata": {
        "id": "j-gqXWkmdP8s"
      },
      "execution_count": null,
      "outputs": []
    },
    {
      "cell_type": "markdown",
      "source": [
        "# Tic-Tac-Toe game"
      ],
      "metadata": {
        "id": "Cl_ue_dfdtDy"
      }
    },
    {
      "cell_type": "code",
      "source": [
        "import math\n",
        "\n",
        "def print_board(board):\n",
        "    for row in board:\n",
        "        print(\" | \".join(row))\n",
        "        print(\"-\" * 9)\n",
        "\n",
        "def check_winner(board):\n",
        "    for row in board:\n",
        "        if row.count(row[0]) == len(row) and row[0] != ' ':\n",
        "            return row[0]\n",
        "\n",
        "    for col in range(len(board)):\n",
        "        check = [row[col] for row in board]\n",
        "        if check.count(check[0]) == len(check) and check[0] != ' ':\n",
        "            return check[0]\n",
        "\n",
        "    if board[0][0] == board[1][1] == board[2][2] and board[0][0] != ' ':\n",
        "        return board[0][0]\n",
        "\n",
        "    if board[0][2] == board[1][1] == board[2][0] and board[0][2] != ' ':\n",
        "        return board[0][2]\n",
        "\n",
        "    return None\n",
        "\n",
        "def is_draw(board):\n",
        "    return all(cell != ' ' for row in board for cell in row)\n",
        "\n",
        "def minimax(board, depth, is_maximizing):\n",
        "    winner = check_winner(board)\n",
        "    if winner == 'X':\n",
        "        return -10 + depth\n",
        "    elif winner == 'O':\n",
        "        return 10 - depth\n",
        "    elif is_draw(board):\n",
        "        return 0\n",
        "\n",
        "    if is_maximizing:\n",
        "        best_score = -math.inf\n",
        "        for row in range(3):\n",
        "            for col in range(3):\n",
        "                if board[row][col] == ' ':\n",
        "                    board[row][col] = 'O'  # Assume O is the maximizer\n",
        "                    score = minimax(board, depth + 1, False)\n",
        "                    board[row][col] = ' '  # Undo move\n",
        "                    best_score = max(score, best_score)\n",
        "        return best_score\n",
        "    else:\n",
        "        best_score = math.inf\n",
        "        for row in range(3):\n",
        "            for col in range(3):\n",
        "                if board[row][col] == ' ':\n",
        "                    board[row][col] = 'X'  # Assume X is the minimizer\n",
        "                    score = minimax(board, depth + 1, True)\n",
        "                    board[row][col] = ' '  # Undo move\n",
        "                    best_score = min(score, best_score)\n",
        "        return best_score\n",
        "\n",
        "def find_best_move(board):\n",
        "    best_score = -math.inf\n",
        "    best_move = (-1, -1)\n",
        "    for row in range(3):\n",
        "        for col in range(3):\n",
        "            if board[row][col] == ' ':\n",
        "                board[row][col] = 'O'  # Try this move\n",
        "                score = minimax(board, 0, False)\n",
        "                board[row][col] = ' '  # Undo move\n",
        "                if score > best_score:\n",
        "                    best_score = score\n",
        "                    best_move = (row, col)\n",
        "    return best_move\n",
        "\n",
        "# Example game board\n",
        "board = [[' ' for _ in range(3)] for _ in range(3)]\n",
        "print(\"Initial board:\")\n",
        "print_board(board)\n",
        "\n",
        "# Example of finding the best move for 'O'\n",
        "best_move = find_best_move(board)\n",
        "print(f\"Best move for 'O' is at: {best_move}\")\n"
      ],
      "metadata": {
        "colab": {
          "base_uri": "https://localhost:8080/"
        },
        "id": "XOtmATJedoyT",
        "outputId": "0f5ab4cc-20a1-4be8-c59a-ca01b294949e"
      },
      "execution_count": null,
      "outputs": [
        {
          "output_type": "stream",
          "name": "stdout",
          "text": [
            "Initial board:\n",
            "  |   |  \n",
            "---------\n",
            "  |   |  \n",
            "---------\n",
            "  |   |  \n",
            "---------\n",
            "Best move for 'O' is at: (0, 0)\n"
          ]
        }
      ]
    }
  ]
}