{
  "nbformat": 4,
  "nbformat_minor": 0,
  "metadata": {
    "colab": {
      "provenance": [],
      "authorship_tag": "ABX9TyNPSGKOdGfKPQ8QH70+pgI5",
      "include_colab_link": true
    },
    "kernelspec": {
      "name": "python3",
      "display_name": "Python 3"
    },
    "language_info": {
      "name": "python"
    }
  },
  "cells": [
    {
      "cell_type": "markdown",
      "metadata": {
        "id": "view-in-github",
        "colab_type": "text"
      },
      "source": [
        "<a href=\"https://colab.research.google.com/github/Abdulsubhan2409/Abdulsubhan2409/blob/main/LAB_TASK.ipynb\" target=\"_parent\"><img src=\"https://colab.research.google.com/assets/colab-badge.svg\" alt=\"Open In Colab\"/></a>"
      ]
    },
    {
      "cell_type": "markdown",
      "source": [],
      "metadata": {
        "id": "yBEWgSulm4lz"
      }
    },
    {
      "cell_type": "markdown",
      "source": [
        "# PROBLEM 1"
      ],
      "metadata": {
        "id": "d-_B-N_Vm520"
      }
    },
    {
      "cell_type": "code",
      "source": [
        "!pip install python-constraint\n",
        "!pip install ortools\n",
        "\n",
        "\n",
        "from ortools.sat.python import cp_model\n",
        "\n",
        "# Create the CP-SAT model\n",
        "model = cp_model.CpModel()\n",
        "\n",
        "# Define the events and time slots\n",
        "events = ['E1', 'E2', 'E3', 'E4']\n",
        "speakers = ['S1', 'S2', 'S3', 'S4']\n",
        "time_slots = ['T1', 'T2', 'T3', 'T4']\n",
        "\n",
        "# Create variables for events, where each event is assigned to a time slot (T1, T2, T3, T4)\n",
        "event_vars = {}\n",
        "for event in events:\n",
        "    event_vars[event] = model.NewIntVar(0, 3, event)  # Mapping time slots to indices (0=T1, 1=T2, 2=T3, 3=T4)\n",
        "\n",
        "# Create variables for speakers, where each speaker is assigned to one event\n",
        "speaker_vars = {}\n",
        "for speaker in speakers:\n",
        "    speaker_vars[speaker] = model.NewIntVar(0, 3, speaker)\n",
        "\n",
        "# Add constraints\n",
        "# 1. Event E1 must be scheduled in T1 (i.e., index 0)\n",
        "model.Add(event_vars['E1'] == 0)\n",
        "\n",
        "# 2. Speaker S2 prefers T2 (i.e., index 1), we add a preference by allowing it but not enforcing it\n",
        "model.Add(speaker_vars['S2'] != 1)  # Make S2 flexible, i.e., they could be assigned any time\n",
        "\n",
        "# 3. Events E2 and E3 must not be scheduled at the same time\n",
        "model.Add(event_vars['E2'] != event_vars['E3'])\n",
        "\n",
        "# 4. A speaker cannot be assigned to more than one event at the same time\n",
        "for speaker in speakers:\n",
        "    model.AddAllDifferent([event_vars[event] for event in events])\n",
        "\n",
        "# Solve the model using the CP-SAT solver\n",
        "solver = cp_model.CpSolver()\n",
        "status = solver.Solve(model)\n",
        "\n",
        "# Output the solution\n",
        "if status == cp_model.OPTIMAL or status == cp_model.FEASIBLE:\n",
        "    print(\"Solution found:\")\n",
        "    for event in events:\n",
        "        print(f\"{event} is scheduled at T{solver.Value(event_vars[event]) + 1}\")\n",
        "\n",
        "    for speaker in speakers:\n",
        "        event_assigned = solver.Value(speaker_vars[speaker])\n",
        "        print(f\"Speaker {speaker} is assigned to event {events[event_assigned]}\")\n",
        "else:\n",
        "    print(\"No solution found\")\n"
      ],
      "metadata": {
        "colab": {
          "base_uri": "https://localhost:8080/"
        },
        "id": "9D6QFxM2n6hL",
        "outputId": "c6687af0-05f1-4c66-9c17-8a8edfb7057d"
      },
      "execution_count": 5,
      "outputs": [
        {
          "output_type": "stream",
          "name": "stdout",
          "text": [
            "Collecting python-constraint\n",
            "  Downloading python-constraint-1.4.0.tar.bz2 (18 kB)\n",
            "  Preparing metadata (setup.py) ... \u001b[?25l\u001b[?25hdone\n",
            "Building wheels for collected packages: python-constraint\n",
            "  Building wheel for python-constraint (setup.py) ... \u001b[?25l\u001b[?25hdone\n",
            "  Created wheel for python-constraint: filename=python_constraint-1.4.0-py2.py3-none-any.whl size=24059 sha256=b04e8613efd951d1a02cb065cea983a793f02c1259ba6bdb3e389c22e9b68d67\n",
            "  Stored in directory: /root/.cache/pip/wheels/2e/f2/2b/cb08b5fe129e4f69b7033061f256e5c551b0aa1160c2872aee\n",
            "Successfully built python-constraint\n",
            "Installing collected packages: python-constraint\n",
            "Successfully installed python-constraint-1.4.0\n",
            "Collecting ortools\n",
            "  Downloading ortools-9.11.4210-cp310-cp310-manylinux_2_17_x86_64.manylinux2014_x86_64.whl.metadata (3.0 kB)\n",
            "Collecting absl-py>=2.0.0 (from ortools)\n",
            "  Downloading absl_py-2.1.0-py3-none-any.whl.metadata (2.3 kB)\n",
            "Requirement already satisfied: numpy>=1.13.3 in /usr/local/lib/python3.10/dist-packages (from ortools) (1.26.4)\n",
            "Requirement already satisfied: pandas>=2.0.0 in /usr/local/lib/python3.10/dist-packages (from ortools) (2.2.2)\n",
            "Collecting protobuf<5.27,>=5.26.1 (from ortools)\n",
            "  Downloading protobuf-5.26.1-cp37-abi3-manylinux2014_x86_64.whl.metadata (592 bytes)\n",
            "Requirement already satisfied: immutabledict>=3.0.0 in /usr/local/lib/python3.10/dist-packages (from ortools) (4.2.0)\n",
            "Requirement already satisfied: python-dateutil>=2.8.2 in /usr/local/lib/python3.10/dist-packages (from pandas>=2.0.0->ortools) (2.8.2)\n",
            "Requirement already satisfied: pytz>=2020.1 in /usr/local/lib/python3.10/dist-packages (from pandas>=2.0.0->ortools) (2024.2)\n",
            "Requirement already satisfied: tzdata>=2022.7 in /usr/local/lib/python3.10/dist-packages (from pandas>=2.0.0->ortools) (2024.2)\n",
            "Requirement already satisfied: six>=1.5 in /usr/local/lib/python3.10/dist-packages (from python-dateutil>=2.8.2->pandas>=2.0.0->ortools) (1.16.0)\n",
            "Downloading ortools-9.11.4210-cp310-cp310-manylinux_2_17_x86_64.manylinux2014_x86_64.whl (28.1 MB)\n",
            "\u001b[2K   \u001b[90m━━━━━━━━━━━━━━━━━━━━━━━━━━━━━━━━━━━━━━━━\u001b[0m \u001b[32m28.1/28.1 MB\u001b[0m \u001b[31m59.8 MB/s\u001b[0m eta \u001b[36m0:00:00\u001b[0m\n",
            "\u001b[?25hDownloading absl_py-2.1.0-py3-none-any.whl (133 kB)\n",
            "\u001b[2K   \u001b[90m━━━━━━━━━━━━━━━━━━━━━━━━━━━━━━━━━━━━━━━━\u001b[0m \u001b[32m133.7/133.7 kB\u001b[0m \u001b[31m12.4 MB/s\u001b[0m eta \u001b[36m0:00:00\u001b[0m\n",
            "\u001b[?25hDownloading protobuf-5.26.1-cp37-abi3-manylinux2014_x86_64.whl (302 kB)\n",
            "\u001b[2K   \u001b[90m━━━━━━━━━━━━━━━━━━━━━━━━━━━━━━━━━━━━━━━━\u001b[0m \u001b[32m302.8/302.8 kB\u001b[0m \u001b[31m26.0 MB/s\u001b[0m eta \u001b[36m0:00:00\u001b[0m\n",
            "\u001b[?25hInstalling collected packages: protobuf, absl-py, ortools\n",
            "  Attempting uninstall: protobuf\n",
            "    Found existing installation: protobuf 4.25.5\n",
            "    Uninstalling protobuf-4.25.5:\n",
            "      Successfully uninstalled protobuf-4.25.5\n",
            "  Attempting uninstall: absl-py\n",
            "    Found existing installation: absl-py 1.4.0\n",
            "    Uninstalling absl-py-1.4.0:\n",
            "      Successfully uninstalled absl-py-1.4.0\n",
            "\u001b[31mERROR: pip's dependency resolver does not currently take into account all the packages that are installed. This behaviour is the source of the following dependency conflicts.\n",
            "tensorflow 2.17.1 requires protobuf!=4.21.0,!=4.21.1,!=4.21.2,!=4.21.3,!=4.21.4,!=4.21.5,<5.0.0dev,>=3.20.3, but you have protobuf 5.26.1 which is incompatible.\n",
            "tensorflow-metadata 1.13.1 requires absl-py<2.0.0,>=0.9, but you have absl-py 2.1.0 which is incompatible.\n",
            "tensorflow-metadata 1.13.1 requires protobuf<5,>=3.20.3, but you have protobuf 5.26.1 which is incompatible.\u001b[0m\u001b[31m\n",
            "\u001b[0mSuccessfully installed absl-py-2.1.0 ortools-9.11.4210 protobuf-5.26.1\n",
            "Solution found:\n",
            "E1 is scheduled at T1\n",
            "E2 is scheduled at T4\n",
            "E3 is scheduled at T3\n",
            "E4 is scheduled at T2\n",
            "Speaker S1 is assigned to event E1\n",
            "Speaker S2 is assigned to event E1\n",
            "Speaker S3 is assigned to event E1\n",
            "Speaker S4 is assigned to event E1\n"
          ]
        }
      ]
    },
    {
      "cell_type": "markdown",
      "source": [
        "# PROBLEM 2"
      ],
      "metadata": {
        "id": "HCD5i8wHoR87"
      }
    },
    {
      "cell_type": "code",
      "source": [
        "# Australia Map Coloring Problem (Graph Coloring Problem)\n",
        "\n",
        "# Define the adjacency list of the regions (states and territories of Australia)\n",
        "regions = {\n",
        "    'WA': ['NT', 'SA'],\n",
        "    'NT': ['WA', 'SA', 'Qld'],\n",
        "    'SA': ['WA', 'NT', 'Qld', 'NSW', 'Vic'],\n",
        "    'Qld': ['NT', 'SA', 'NSW'],\n",
        "    'NSW': ['SA', 'Qld', 'Vic'],\n",
        "    'Vic': ['SA', 'NSW'],\n",
        "    'TAS': ['SA'],\n",
        "    'ACT': ['NSW', 'Vic']\n",
        "}\n",
        "\n",
        "# Colors available (3 colors)\n",
        "colors = ['Red', 'Green', 'Blue']\n",
        "\n",
        "# Function to check if the current coloring is valid\n",
        "def is_valid(assignment, region, color):\n",
        "    # Check all neighbors of the current region\n",
        "    for neighbor in regions[region]:\n",
        "        if neighbor in assignment and assignment[neighbor] == color:\n",
        "            return False\n",
        "    return True\n",
        "\n",
        "# Backtracking function to try to assign colors to regions\n",
        "def backtrack(assignment):\n",
        "    # If all regions are assigned a color, return True (solution found)\n",
        "    if len(assignment) == len(regions):\n",
        "        return True\n",
        "\n",
        "    # Select the next region to color (choose any uncolored region)\n",
        "    for region in regions:\n",
        "        if region not in assignment:\n",
        "            # Try all colors\n",
        "            for color in colors:\n",
        "                if is_valid(assignment, region, color):\n",
        "                    # Assign color and continue\n",
        "                    assignment[region] = color\n",
        "                    if backtrack(assignment):\n",
        "                        return True\n",
        "                    # Backtrack\n",
        "                    del assignment[region]\n",
        "            return False\n",
        "    return False\n",
        "\n",
        "# Solve the problem\n",
        "def solve_map_coloring():\n",
        "    assignment = {}\n",
        "    if backtrack(assignment):\n",
        "        return assignment\n",
        "    else:\n",
        "        return \"No solution found\"\n",
        "\n",
        "# Solve the coloring problem\n",
        "solution = solve_map_coloring()\n",
        "\n",
        "# Print the solution\n",
        "if solution != \"No solution found\":\n",
        "    print(\"Solution found:\")\n",
        "    for region, color in solution.items():\n",
        "        print(f\"{region}: {color}\")\n",
        "else:\n",
        "    print(solution)\n"
      ],
      "metadata": {
        "colab": {
          "base_uri": "https://localhost:8080/"
        },
        "id": "AAIEI2CIoUbi",
        "outputId": "7a4a4414-036c-4516-d6a1-fc11b4ec57c1"
      },
      "execution_count": 6,
      "outputs": [
        {
          "output_type": "stream",
          "name": "stdout",
          "text": [
            "Solution found:\n",
            "WA: Red\n",
            "NT: Green\n",
            "SA: Blue\n",
            "Qld: Red\n",
            "NSW: Green\n",
            "Vic: Red\n",
            "TAS: Red\n",
            "ACT: Blue\n"
          ]
        }
      ]
    }
  ]
}